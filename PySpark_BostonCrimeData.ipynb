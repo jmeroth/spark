{
  "nbformat": 4,
  "nbformat_minor": 0,
  "metadata": {
    "colab": {
      "name": "PySpark_BostonCrimeData.ipynb",
      "provenance": [],
      "collapsed_sections": []
    },
    "kernelspec": {
      "display_name": "Python 3",
      "language": "python",
      "name": "python3"
    },
    "language_info": {
      "codemirror_mode": {
        "name": "ipython",
        "version": 3
      },
      "file_extension": ".py",
      "mimetype": "text/x-python",
      "name": "python",
      "nbconvert_exporter": "python",
      "pygments_lexer": "ipython3",
      "version": "3.6.5"
    }
  },
  "cells": [
    {
      "cell_type": "markdown",
      "metadata": {
        "colab_type": "text",
        "id": "8qf-TmnsBgXd"
      },
      "source": [
        "# Download Boston's Reported Crime Data"
      ]
    },
    {
      "cell_type": "markdown",
      "metadata": {
        "colab_type": "text",
        "id": "Dd6t0uFzuR4X"
      },
      "source": [
        "## Download and install Spark"
      ]
    },
    {
      "cell_type": "code",
      "metadata": {
        "colab_type": "code",
        "id": "zToS5PqxBXpK",
        "outputId": "5e8e05d1-6d49-4f38-80b3-a2371d1d38be",
        "colab": {
          "base_uri": "https://localhost:8080/",
          "height": 34
        }
      },
      "source": [
        "!ls"
      ],
      "execution_count": 3,
      "outputs": [
        {
          "output_type": "stream",
          "text": [
            "sample_data\n"
          ],
          "name": "stdout"
        }
      ]
    },
    {
      "cell_type": "code",
      "metadata": {
        "colab_type": "code",
        "id": "tt7ZS1_wGgjn",
        "colab": {}
      },
      "source": [
        "!apt-get update\n",
        "!apt-get install openjdk-8-jdk-headless -qq > /dev/null\n",
        "!wget -q http://archive.apache.org/dist/spark/spark-2.3.1/spark-2.3.1-bin-hadoop2.7.tgz\n",
        "!tar xf spark-2.3.1-bin-hadoop2.7.tgz\n",
        "!pip install -q findspark"
      ],
      "execution_count": 0,
      "outputs": []
    },
    {
      "cell_type": "markdown",
      "metadata": {
        "colab_type": "text",
        "id": "FEuEkV0BlzAD"
      },
      "source": [
        "## Setup environment"
      ]
    },
    {
      "cell_type": "code",
      "metadata": {
        "colab_type": "code",
        "id": "sdOOq4twHN1K",
        "outputId": "405597be-1b45-4c82-c94c-43788458c9f8",
        "colab": {
          "base_uri": "https://localhost:8080/",
          "height": 216
        }
      },
      "source": [
        "import os\n",
        "os.environ[\"JAVA_HOME\"] = \"/usr/lib/jvm/java-8-openjdk-amd64\"\n",
        "os.environ[\"SPARK_HOME\"] = \"/content/spark-2.3.1-bin-hadoop2.7\"\n",
        "\n",
        "import findspark\n",
        "findspark.init()\n",
        "from pyspark import SparkContext\n",
        "sc = SparkContext.getOrCreate()\n",
        "\n",
        "import pyspark\n",
        "from pyspark.sql import SparkSession\n",
        "spark = SparkSession.builder.getOrCreate() \n",
        "spark"
      ],
      "execution_count": 5,
      "outputs": [
        {
          "output_type": "execute_result",
          "data": {
            "text/html": [
              "\n",
              "            <div>\n",
              "                <p><b>SparkSession - in-memory</b></p>\n",
              "                \n",
              "        <div>\n",
              "            <p><b>SparkContext</b></p>\n",
              "\n",
              "            <p><a href=\"http://2615df42e9a0:4040\">Spark UI</a></p>\n",
              "\n",
              "            <dl>\n",
              "              <dt>Version</dt>\n",
              "                <dd><code>v2.3.1</code></dd>\n",
              "              <dt>Master</dt>\n",
              "                <dd><code>local[*]</code></dd>\n",
              "              <dt>AppName</dt>\n",
              "                <dd><code>pyspark-shell</code></dd>\n",
              "            </dl>\n",
              "        </div>\n",
              "        \n",
              "            </div>\n",
              "        "
            ],
            "text/plain": [
              "<pyspark.sql.session.SparkSession at 0x7fa0bbace748>"
            ]
          },
          "metadata": {
            "tags": []
          },
          "execution_count": 5
        }
      ]
    },
    {
      "cell_type": "markdown",
      "metadata": {
        "colab_type": "text",
        "id": "0ysUlfFrN5OD"
      },
      "source": [
        "## Downloading and preprocessing Boston's Reported Crime Data"
      ]
    },
    {
      "cell_type": "code",
      "metadata": {
        "colab_type": "code",
        "id": "FDtw5Hy3N-pV",
        "colab": {}
      },
      "source": [
        "#!wget https://data.cityofchicago.org/api/views/ijzp-q8t2/rows.csv?accessType=DOWNLOAD\n",
        "!wget https://data.boston.gov/dataset/eefad66a-e805-4b35-b170-d26e2028c373/resource/ba5ed0e2-e901-438c-b2e0-4acfc3c452b9/download/crime-incident-reports-july-2012-august-2015-source-legacy-system.csv"
      ],
      "execution_count": 0,
      "outputs": []
    },
    {
      "cell_type": "code",
      "metadata": {
        "colab_type": "code",
        "id": "v4P5mMONYyVd",
        "outputId": "2ead0e8a-a265-4562-ff77-99886459708c",
        "colab": {
          "base_uri": "https://localhost:8080/",
          "height": 85
        }
      },
      "source": [
        "!ls"
      ],
      "execution_count": 7,
      "outputs": [
        {
          "output_type": "stream",
          "text": [
            "crime-incident-reports-july-2012-august-2015-source-legacy-system.csv\n",
            "sample_data\n",
            "spark-2.3.1-bin-hadoop2.7\n",
            "spark-2.3.1-bin-hadoop2.7.tgz\n"
          ],
          "name": "stdout"
        }
      ]
    },
    {
      "cell_type": "code",
      "metadata": {
        "colab_type": "code",
        "id": "MzpuCsvDPWM-",
        "colab": {}
      },
      "source": [
        "!mv crime-incident-reports-july-2012-august-2015-source-legacy-system.csv reported-crimes.csv"
      ],
      "execution_count": 0,
      "outputs": []
    },
    {
      "cell_type": "markdown",
      "metadata": {
        "id": "CmAvLSILwG3X",
        "colab_type": "text"
      },
      "source": [
        "Preprocessiing data"
      ]
    },
    {
      "cell_type": "code",
      "metadata": {
        "colab_type": "code",
        "id": "9-1cK0nPNS95",
        "outputId": "bc7d8861-e5c0-4e80-d872-31ba3704ec55",
        "colab": {
          "base_uri": "https://localhost:8080/",
          "height": 224
        }
      },
      "source": [
        "from pyspark.sql.functions import to_timestamp,col,lit\n",
        "rc = spark.read.csv('reported-crimes.csv',header=True).withColumn('FROMDATE',to_timestamp(col('FROMDATE'),'MM/dd/yyyy hh:mm:ss a')).filter(col('FROMDATE') <= lit('2018-11-11'))\n",
        "rc.show(5)"
      ],
      "execution_count": 9,
      "outputs": [
        {
          "output_type": "stream",
          "text": [
            "+---------+----------+-------------------------+--------------+------------+-------------+-------------------+----------+--------+--------+-----+----+-----+--------+--------+-----------+-----------+-----------+--------------+--------------------+\n",
            "|  COMPNOS|NatureCode|INCIDENT_TYPE_DESCRIPTION|MAIN_CRIMECODE|REPTDISTRICT|REPORTINGAREA|           FROMDATE|WEAPONTYPE|Shooting|DOMESTIC|SHIFT|Year|Month|DAY_WEEK| UCRPART|          X|          Y| STREETNAME|   XSTREETNAME|            Location|\n",
            "+---------+----------+-------------------------+--------------+------------+-------------+-------------------+----------+--------+--------+-----+----+-----+--------+--------+-----------+-----------+-----------+--------------+--------------------+\n",
            "|120420285|    BERPTA|     RESIDENTIAL BURGLARY|          05RB|          D4|          629|2012-07-08 06:00:00|     Other|      No|      No| Last|2012|    7|  Sunday|Part One|763273.1791|2951498.962|ABERDEEN ST|          null|(42.34638135, -71...|\n",
            "|120419202|    PSHOT |       AGGRAVATED ASSAULT|          04xx|          B2|          327|2012-07-08 06:03:00|   Firearm|     Yes|      No| Last|2012|    7|  Sunday|Part One|771223.1638|2940772.099|  HOWARD AV|          null|(42.31684135, -71...|\n",
            "|120419213|    ARMROB|                  ROBBERY|          03xx|          D4|          625|2012-07-08 06:26:00|   Firearm|      No|      No| Last|2012|    7|  Sunday|Part One|765118.8605|2950217.536|  JERSEY ST|QUEENSBERRY ST|(42.34284135, -71...|\n",
            "|120419223|    ALARMC|      COMMERCIAL BURGLARY|          05CB|          B2|          258|2012-07-08 06:56:00|     Other|      No|      No| Last|2012|    7|  Sunday|Part One|773591.8648|2940638.174|COLUMBIA RD|          null|(42.3164411, -71....|\n",
            "|120419236|    ARMROB|                  ROBBERY|          03xx|         E18|          496|2012-07-08 07:15:00|   Firearm|      No|      No| Last|2012|    7|  Sunday|Part One|759042.7315|2923832.681| COLLINS ST|          null|(42.27051636, -71...|\n",
            "+---------+----------+-------------------------+--------------+------------+-------------+-------------------+----------+--------+--------+-----+----+-----+--------+--------+-----------+-----------+-----------+--------------+--------------------+\n",
            "only showing top 5 rows\n",
            "\n"
          ],
          "name": "stdout"
        }
      ]
    },
    {
      "cell_type": "code",
      "metadata": {
        "colab_type": "code",
        "id": "FtDmwilgogPH",
        "colab": {}
      },
      "source": [
        "rc.take(3)"
      ],
      "execution_count": 0,
      "outputs": []
    },
    {
      "cell_type": "code",
      "metadata": {
        "colab_type": "code",
        "id": "Zxbq2qCyogGp",
        "colab": {}
      },
      "source": [
        "rc.printSchema()"
      ],
      "execution_count": 0,
      "outputs": []
    },
    {
      "cell_type": "code",
      "metadata": {
        "id": "nizoQI81Jl4K",
        "colab_type": "code",
        "colab": {
          "base_uri": "https://localhost:8080/",
          "height": 187
        },
        "outputId": "50f664da-7dd0-4ed0-91c9-175e72de05c7"
      },
      "source": [
        "rc.select(col('WEAPONTYPE'), col('FROMDATE')).show(4)"
      ],
      "execution_count": 14,
      "outputs": [
        {
          "output_type": "stream",
          "text": [
            "+----------+-------------------+\n",
            "|WEAPONTYPE|           FROMDATE|\n",
            "+----------+-------------------+\n",
            "|     Other|2012-07-08 06:00:00|\n",
            "|   Firearm|2012-07-08 06:03:00|\n",
            "|   Firearm|2012-07-08 06:26:00|\n",
            "|     Other|2012-07-08 06:56:00|\n",
            "+----------+-------------------+\n",
            "only showing top 4 rows\n",
            "\n"
          ],
          "name": "stdout"
        }
      ]
    },
    {
      "cell_type": "code",
      "metadata": {
        "id": "ItAf9x9WLQ7N",
        "colab_type": "code",
        "colab": {}
      },
      "source": [
        "from pyspark.sql.functions import lit"
      ],
      "execution_count": 0,
      "outputs": []
    },
    {
      "cell_type": "code",
      "metadata": {
        "id": "cASXJFqrMOly",
        "colab_type": "code",
        "colab": {}
      },
      "source": [
        "#rc.withColumn('One', lit(1)).show(5)"
      ],
      "execution_count": 0,
      "outputs": []
    },
    {
      "cell_type": "code",
      "metadata": {
        "id": "Lkf4-BtmNED8",
        "colab_type": "code",
        "colab": {
          "base_uri": "https://localhost:8080/",
          "height": 238
        },
        "outputId": "8fa5e7be-48ec-4218-da01-fef704f0850f"
      },
      "source": [
        "rc.count()\n",
        "rc.groupBy('WEAPONTYPE').count().orderBy('count',ascending=False).show(truncate=False)"
      ],
      "execution_count": 10,
      "outputs": [
        {
          "output_type": "stream",
          "text": [
            "+----------------------------------+------+\n",
            "|WEAPONTYPE                        |count |\n",
            "+----------------------------------+------+\n",
            "|Unarmed                           |194932|\n",
            "|Other                             |52102 |\n",
            "|None                              |11319 |\n",
            "|Firearm                           |5299  |\n",
            "|Knife                             |3867  |\n",
            "|Personal Weapon (hand  foot  etc.)|282   |\n",
            "|Knife/Cutting Instrument          |177   |\n",
            "|Blunt Object                      |78    |\n",
            "+----------------------------------+------+\n",
            "\n"
          ],
          "name": "stdout"
        }
      ]
    },
    {
      "cell_type": "code",
      "metadata": {
        "id": "tHJd_rUhSe8H",
        "colab_type": "code",
        "colab": {
          "base_uri": "https://localhost:8080/",
          "height": 34
        },
        "outputId": "7b4c9e26-d530-4678-d640-c242145b6cf6"
      },
      "source": [
        "rc.filter(col('Shooting') == 'Yes').count()"
      ],
      "execution_count": 11,
      "outputs": [
        {
          "output_type": "execute_result",
          "data": {
            "text/plain": [
              "697"
            ]
          },
          "metadata": {
            "tags": []
          },
          "execution_count": 11
        }
      ]
    },
    {
      "cell_type": "code",
      "metadata": {
        "id": "TdLV6pRlgtEb",
        "colab_type": "code",
        "colab": {}
      },
      "source": [
        "from pyspark.sql.functions import mean\n",
        "rc.select(mean(rc.Year)).show()"
      ],
      "execution_count": 0,
      "outputs": []
    },
    {
      "cell_type": "code",
      "metadata": {
        "id": "B65jSkk1hs3d",
        "colab_type": "code",
        "colab": {}
      },
      "source": [
        "from pyspark.sql import functions"
      ],
      "execution_count": 0,
      "outputs": []
    },
    {
      "cell_type": "code",
      "metadata": {
        "id": "bKeTEOKUqowt",
        "colab_type": "code",
        "colab": {
          "base_uri": "https://localhost:8080/",
          "height": 54
        },
        "outputId": "b15021de-3f33-497c-f917-a385bd3fc115"
      },
      "source": [
        "print(dir(functions))"
      ],
      "execution_count": 30,
      "outputs": [
        {
          "output_type": "stream",
          "text": [
            "['AutoBatchedSerializer', 'Column', 'DataFrame', 'DataType', 'PandasUDFType', 'PickleSerializer', 'PythonEvalType', 'SparkContext', 'StringType', 'UserDefinedFunction', '__all__', '__builtins__', '__cached__', '__doc__', '__file__', '__loader__', '__name__', '__package__', '__spec__', '_binary_mathfunctions', '_collect_list_doc', '_collect_set_doc', '_create_binary_mathfunction', '_create_function', '_create_udf', '_create_window_function', '_functions', '_functions_1_4', '_functions_1_6', '_functions_2_1', '_functions_deprecated', '_lit_doc', '_message', '_string_functions', '_test', '_to_java_column', '_to_seq', '_window_functions', '_wrap_deprecated_function', 'abs', 'acos', 'add_months', 'approxCountDistinct', 'approx_count_distinct', 'array', 'array_contains', 'asc', 'ascii', 'asin', 'atan', 'atan2', 'avg', 'base64', 'bin', 'bitwiseNOT', 'blacklist', 'broadcast', 'bround', 'cbrt', 'ceil', 'coalesce', 'col', 'collect_list', 'collect_set', 'column', 'concat', 'concat_ws', 'conv', 'corr', 'cos', 'cosh', 'count', 'countDistinct', 'covar_pop', 'covar_samp', 'crc32', 'create_map', 'cume_dist', 'current_date', 'current_timestamp', 'date_add', 'date_format', 'date_sub', 'date_trunc', 'datediff', 'dayofmonth', 'dayofweek', 'dayofyear', 'decode', 'degrees', 'dense_rank', 'desc', 'encode', 'exp', 'explode', 'explode_outer', 'expm1', 'expr', 'factorial', 'first', 'floor', 'format_number', 'format_string', 'from_json', 'from_unixtime', 'from_utc_timestamp', 'functools', 'get_json_object', 'greatest', 'grouping', 'grouping_id', 'hash', 'hex', 'hour', 'hypot', 'ignore_unicode_prefix', 'initcap', 'input_file_name', 'instr', 'isnan', 'isnull', 'json_tuple', 'kurtosis', 'lag', 'last', 'last_day', 'lead', 'least', 'length', 'levenshtein', 'lit', 'locate', 'log', 'log10', 'log1p', 'log2', 'lower', 'lpad', 'ltrim', 'map_keys', 'map_values', 'math', 'max', 'md5', 'mean', 'min', 'minute', 'monotonically_increasing_id', 'month', 'months_between', 'nanvl', 'next_day', 'ntile', 'pandas_udf', 'percent_rank', 'posexplode', 'posexplode_outer', 'pow', 'quarter', 'radians', 'rand', 'randn', 'rank', 'regexp_extract', 'regexp_replace', 'repeat', 'reverse', 'rint', 'round', 'row_number', 'rpad', 'rtrim', 'second', 'sha1', 'sha2', 'shiftLeft', 'shiftRight', 'shiftRightUnsigned', 'signum', 'sin', 'since', 'sinh', 'size', 'skewness', 'sort_array', 'soundex', 'spark_partition_id', 'split', 'sqrt', 'stddev', 'stddev_pop', 'stddev_samp', 'struct', 'substring', 'substring_index', 'sum', 'sumDistinct', 'sys', 'tan', 'tanh', 'toDegrees', 'toRadians', 'to_date', 'to_json', 'to_timestamp', 'to_utc_timestamp', 'translate', 'trim', 'trunc', 'udf', 'unbase64', 'unhex', 'unix_timestamp', 'upper', 'var_pop', 'var_samp', 'variance', 'warnings', 'weekofyear', 'when', 'window', 'year']\n"
          ],
          "name": "stdout"
        }
      ]
    },
    {
      "cell_type": "code",
      "metadata": {
        "id": "uMMI6-o5qs0c",
        "colab_type": "code",
        "colab": {}
      },
      "source": [
        "from pyspark.sql.functions import substring,min,max,date_add, date_sub, to_date, to_timestamp"
      ],
      "execution_count": 0,
      "outputs": []
    },
    {
      "cell_type": "code",
      "metadata": {
        "id": "hQEKqG0Sq5ts",
        "colab_type": "code",
        "colab": {}
      },
      "source": [
        "help(substring)"
      ],
      "execution_count": 0,
      "outputs": []
    },
    {
      "cell_type": "code",
      "metadata": {
        "id": "5q16_N1MrAuO",
        "colab_type": "code",
        "colab": {
          "base_uri": "https://localhost:8080/",
          "height": 221
        },
        "outputId": "69630ed1-3c81-483c-9327-d196d8ad6df8"
      },
      "source": [
        "rc.select(substring(col('Year'),-2,2)).show(6)"
      ],
      "execution_count": 34,
      "outputs": [
        {
          "output_type": "stream",
          "text": [
            "+----------------------+\n",
            "|substring(Year, -2, 2)|\n",
            "+----------------------+\n",
            "|                    12|\n",
            "|                    12|\n",
            "|                    12|\n",
            "|                    12|\n",
            "|                    12|\n",
            "|                    12|\n",
            "+----------------------+\n",
            "only showing top 6 rows\n",
            "\n"
          ],
          "name": "stdout"
        }
      ]
    },
    {
      "cell_type": "code",
      "metadata": {
        "id": "cOT5ti6XruO-",
        "colab_type": "code",
        "colab": {
          "base_uri": "https://localhost:8080/",
          "height": 119
        },
        "outputId": "d1067c96-afaa-4b6f-8d29-9f9591dc2dd2"
      },
      "source": [
        "df = spark.createDataFrame([('2019-12-25 13:30:00',)],['Christmas'])\n",
        "df.show(1)"
      ],
      "execution_count": 39,
      "outputs": [
        {
          "output_type": "stream",
          "text": [
            "+-------------------+\n",
            "|          Christmas|\n",
            "+-------------------+\n",
            "|2019-12-25 13:30:00|\n",
            "+-------------------+\n",
            "\n"
          ],
          "name": "stdout"
        }
      ]
    },
    {
      "cell_type": "code",
      "metadata": {
        "id": "w2HnydZnsvHs",
        "colab_type": "code",
        "colab": {
          "base_uri": "https://localhost:8080/",
          "height": 119
        },
        "outputId": "d4988766-2a2c-4ea1-c760-cb7ced6a3ac1"
      },
      "source": [
        "df.select(to_date(col('Christmas'),'yyyy-MM-dd HH:mm:ss'), to_timestamp(col('Christmas'),'yyyy-MM-dd HH:mm:ss')).show(1)"
      ],
      "execution_count": 42,
      "outputs": [
        {
          "output_type": "stream",
          "text": [
            "+-------------------------------------------+------------------------------------------------+\n",
            "|to_date(`Christmas`, 'yyyy-MM-dd HH:mm:ss')|to_timestamp(`Christmas`, 'yyyy-MM-dd HH:mm:ss')|\n",
            "+-------------------------------------------+------------------------------------------------+\n",
            "|                                 2019-12-25|                             2019-12-25 13:30:00|\n",
            "+-------------------------------------------+------------------------------------------------+\n",
            "\n"
          ],
          "name": "stdout"
        }
      ]
    },
    {
      "cell_type": "code",
      "metadata": {
        "id": "1rHnVvY_uUbh",
        "colab_type": "code",
        "colab": {
          "base_uri": "https://localhost:8080/",
          "height": 34
        },
        "outputId": "e3986851-7e67-4a9f-c747-c27449feae61"
      },
      "source": [
        "rc.cache()\n",
        "rc.count()"
      ],
      "execution_count": 12,
      "outputs": [
        {
          "output_type": "execute_result",
          "data": {
            "text/plain": [
              "268056"
            ]
          },
          "metadata": {
            "tags": []
          },
          "execution_count": 12
        }
      ]
    },
    {
      "cell_type": "code",
      "metadata": {
        "id": "U920wdzxxQwl",
        "colab_type": "code",
        "colab": {
          "base_uri": "https://localhost:8080/",
          "height": 340
        },
        "outputId": "511067d7-d4d3-400f-e07a-4f14733c875d"
      },
      "source": [
        "rc.filter(col('Shooting') == 'Yes').groupBy(col('DAY_WEEK')).count().orderBy('count',ascending=False).show()\n",
        "rc.filter(col('Shooting') == 'Yes').groupBy(col('DAY_WEEK')).count().orderBy('count',ascending=False).collect()"
      ],
      "execution_count": 15,
      "outputs": [
        {
          "output_type": "stream",
          "text": [
            "+---------+-----+\n",
            "| DAY_WEEK|count|\n",
            "+---------+-----+\n",
            "|   Sunday|  133|\n",
            "| Saturday|  114|\n",
            "|   Friday|  103|\n",
            "| Thursday|   91|\n",
            "|Wednesday|   87|\n",
            "|   Monday|   85|\n",
            "|  Tuesday|   84|\n",
            "+---------+-----+\n",
            "\n"
          ],
          "name": "stdout"
        },
        {
          "output_type": "execute_result",
          "data": {
            "text/plain": [
              "[Row(DAY_WEEK='Sunday', count=133),\n",
              " Row(DAY_WEEK='Saturday', count=114),\n",
              " Row(DAY_WEEK='Friday', count=103),\n",
              " Row(DAY_WEEK='Thursday', count=91),\n",
              " Row(DAY_WEEK='Wednesday', count=87),\n",
              " Row(DAY_WEEK='Monday', count=85),\n",
              " Row(DAY_WEEK='Tuesday', count=84)]"
            ]
          },
          "metadata": {
            "tags": []
          },
          "execution_count": 15
        }
      ]
    },
    {
      "cell_type": "code",
      "metadata": {
        "id": "UFOMc_bjUXTG",
        "colab_type": "code",
        "colab": {
          "base_uri": "https://localhost:8080/",
          "height": 153
        },
        "outputId": "03713474-9657-4bf5-857c-ff944400c0d0"
      },
      "source": [
        "dayOfWeek = [x[0] for x in rc.filter(col('Shooting') == 'Yes').groupBy(col('DAY_WEEK')).count().orderBy('count',ascending=False).collect() ]\n",
        "count = [x[1] for x in rc.filter(col('Shooting') == 'Yes').groupBy(col('DAY_WEEK')).count().orderBy('count',ascending=False).collect() ]\n",
        "dayOfWeek,count"
      ],
      "execution_count": 18,
      "outputs": [
        {
          "output_type": "execute_result",
          "data": {
            "text/plain": [
              "(['Sunday',\n",
              "  'Saturday',\n",
              "  'Friday',\n",
              "  'Thursday',\n",
              "  'Wednesday',\n",
              "  'Monday',\n",
              "  'Tuesday'],\n",
              " [133, 114, 103, 91, 87, 85, 84])"
            ]
          },
          "metadata": {
            "tags": []
          },
          "execution_count": 18
        }
      ]
    },
    {
      "cell_type": "code",
      "metadata": {
        "id": "9pQXojxLYmTa",
        "colab_type": "code",
        "colab": {}
      },
      "source": [
        "import pandas as pd\n",
        "import matplotlib.pyplot as plt"
      ],
      "execution_count": 0,
      "outputs": []
    },
    {
      "cell_type": "code",
      "metadata": {
        "id": "q-G9Z64CY-L3",
        "colab_type": "code",
        "colab": {
          "base_uri": "https://localhost:8080/",
          "height": 266
        },
        "outputId": "3d0b241f-1f6a-48fb-e734-3d7406625b48"
      },
      "source": [
        "cp = pd.DataFrame({'Day_of_week' : dayOfWeek, 'Count' : count})\n",
        "cp.head(7)"
      ],
      "execution_count": 21,
      "outputs": [
        {
          "output_type": "execute_result",
          "data": {
            "text/html": [
              "<div>\n",
              "<style scoped>\n",
              "    .dataframe tbody tr th:only-of-type {\n",
              "        vertical-align: middle;\n",
              "    }\n",
              "\n",
              "    .dataframe tbody tr th {\n",
              "        vertical-align: top;\n",
              "    }\n",
              "\n",
              "    .dataframe thead th {\n",
              "        text-align: right;\n",
              "    }\n",
              "</style>\n",
              "<table border=\"1\" class=\"dataframe\">\n",
              "  <thead>\n",
              "    <tr style=\"text-align: right;\">\n",
              "      <th></th>\n",
              "      <th>Day_of_week</th>\n",
              "      <th>Count</th>\n",
              "    </tr>\n",
              "  </thead>\n",
              "  <tbody>\n",
              "    <tr>\n",
              "      <th>0</th>\n",
              "      <td>Sunday</td>\n",
              "      <td>133</td>\n",
              "    </tr>\n",
              "    <tr>\n",
              "      <th>1</th>\n",
              "      <td>Saturday</td>\n",
              "      <td>114</td>\n",
              "    </tr>\n",
              "    <tr>\n",
              "      <th>2</th>\n",
              "      <td>Friday</td>\n",
              "      <td>103</td>\n",
              "    </tr>\n",
              "    <tr>\n",
              "      <th>3</th>\n",
              "      <td>Thursday</td>\n",
              "      <td>91</td>\n",
              "    </tr>\n",
              "    <tr>\n",
              "      <th>4</th>\n",
              "      <td>Wednesday</td>\n",
              "      <td>87</td>\n",
              "    </tr>\n",
              "    <tr>\n",
              "      <th>5</th>\n",
              "      <td>Monday</td>\n",
              "      <td>85</td>\n",
              "    </tr>\n",
              "    <tr>\n",
              "      <th>6</th>\n",
              "      <td>Tuesday</td>\n",
              "      <td>84</td>\n",
              "    </tr>\n",
              "  </tbody>\n",
              "</table>\n",
              "</div>"
            ],
            "text/plain": [
              "  Day_of_week  Count\n",
              "0      Sunday    133\n",
              "1    Saturday    114\n",
              "2      Friday    103\n",
              "3    Thursday     91\n",
              "4   Wednesday     87\n",
              "5      Monday     85\n",
              "6     Tuesday     84"
            ]
          },
          "metadata": {
            "tags": []
          },
          "execution_count": 21
        }
      ]
    },
    {
      "cell_type": "code",
      "metadata": {
        "id": "SiPaMOnSZqo3",
        "colab_type": "code",
        "colab": {
          "base_uri": "https://localhost:8080/",
          "height": 361
        },
        "outputId": "129875ec-b7d7-469c-8c94-61900560aeca"
      },
      "source": [
        "cp.sort_values('Count', ascending=False).plot(kind='bar', x='Day_of_week', y='Count')\n",
        "plt.xlabel('Day of the week')\n",
        "plt.ylabel('No. of shootings')\n",
        "plt.title('No. of shootings by day of week')"
      ],
      "execution_count": 24,
      "outputs": [
        {
          "output_type": "execute_result",
          "data": {
            "text/plain": [
              "Text(0.5, 1.0, 'No. of shootings by day of week')"
            ]
          },
          "metadata": {
            "tags": []
          },
          "execution_count": 24
        },
        {
          "output_type": "display_data",
          "data": {
            "image/png": "[encoded data removed]",
            "text/plain": [
              "<Figure size 432x288 with 1 Axes>"
            ]
          },
          "metadata": {
            "tags": []
          }
        }
      ]
    },
    {
      "cell_type": "code",
      "metadata": {
        "id": "Agj9x5ZKaNrY",
        "colab_type": "code",
        "colab": {}
      },
      "source": [
        ""
      ],
      "execution_count": 0,
      "outputs": []
    },
    {
      "cell_type": "markdown",
      "metadata": {
        "id": "mVc-Yi22cnYF",
        "colab_type": "text"
      },
      "source": [
        "##RDDs setup"
      ]
    },
    {
      "cell_type": "code",
      "metadata": {
        "id": "aHLE-7l2cq09",
        "colab_type": "code",
        "colab": {
          "base_uri": "https://localhost:8080/",
          "height": 34
        },
        "outputId": "f09b3788-b3a7-436b-acac-a3e60ba97554"
      },
      "source": [
        "myrdd = sc.textFile('reported-crimes.csv')\n",
        "myrdd.first()"
      ],
      "execution_count": 25,
      "outputs": [
        {
          "output_type": "execute_result",
          "data": {
            "text/plain": [
              "'COMPNOS,NatureCode,INCIDENT_TYPE_DESCRIPTION,MAIN_CRIMECODE,REPTDISTRICT,REPORTINGAREA,FROMDATE,WEAPONTYPE,Shooting,DOMESTIC,SHIFT,Year,Month,DAY_WEEK,UCRPART,X,Y,STREETNAME,XSTREETNAME,Location'"
            ]
          },
          "metadata": {
            "tags": []
          },
          "execution_count": 25
        }
      ]
    },
    {
      "cell_type": "code",
      "metadata": {
        "id": "SxBhYclIdMT2",
        "colab_type": "code",
        "colab": {
          "base_uri": "https://localhost:8080/",
          "height": 34
        },
        "outputId": "090a83ee-4230-480a-cdbe-391febc97572"
      },
      "source": [
        "header = myrdd.first()\n",
        "rest = myrdd.filter(lambda line: line != header)\n",
        "rest.first()"
      ],
      "execution_count": 26,
      "outputs": [
        {
          "output_type": "execute_result",
          "data": {
            "text/plain": [
              "'120420285,BERPTA,RESIDENTIAL BURGLARY,05RB,D4,629,07/08/2012 06:00:00 AM,Other,No,No,Last,2012,7,Sunday,Part One,763273.1791,2951498.962,ABERDEEN ST,,\"(42.34638135, -71.10379454)\"'"
            ]
          },
          "metadata": {
            "tags": []
          },
          "execution_count": 26
        }
      ]
    },
    {
      "cell_type": "code",
      "metadata": {
        "id": "bbuGGrbMdwzm",
        "colab_type": "code",
        "colab": {
          "base_uri": "https://localhost:8080/",
          "height": 34
        },
        "outputId": "5b980d18-3808-4f20-e0ec-c6de5d4633e8"
      },
      "source": [
        "rest.map(lambda line: line.split(',')).count()"
      ],
      "execution_count": 27,
      "outputs": [
        {
          "output_type": "execute_result",
          "data": {
            "text/plain": [
              "268056"
            ]
          },
          "metadata": {
            "tags": []
          },
          "execution_count": 27
        }
      ]
    },
    {
      "cell_type": "code",
      "metadata": {
        "id": "TudsIvEfeNEY",
        "colab_type": "code",
        "colab": {
          "base_uri": "https://localhost:8080/",
          "height": 34
        },
        "outputId": "51df7385-6246-4ed6-ae58-d1c21f03ca10"
      },
      "source": [
        "(rest.filter(lambda line: line.split(',')[0] in [ '120420285', '120419202']).\n",
        " map(lambda line: (line.split(',')[0],\n",
        "                   line.split(',')[1],\n",
        "                   line.split(',')[7]\n",
        "                   )).collect())"
      ],
      "execution_count": 30,
      "outputs": [
        {
          "output_type": "execute_result",
          "data": {
            "text/plain": [
              "[('120420285', 'BERPTA', 'Other'), ('120419202', 'PSHOT ', 'Firearm')]"
            ]
          },
          "metadata": {
            "tags": []
          },
          "execution_count": 30
        }
      ]
    },
    {
      "cell_type": "code",
      "metadata": {
        "id": "nLqnuo5GfwFU",
        "colab_type": "code",
        "colab": {}
      },
      "source": [
        ""
      ],
      "execution_count": 0,
      "outputs": []
    }
  ]
}